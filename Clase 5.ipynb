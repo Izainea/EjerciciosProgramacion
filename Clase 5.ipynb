{
 "cells": [
  {
   "cell_type": "markdown",
   "id": "5af1a441-3885-4788-bfd1-3440e19b41d6",
   "metadata": {},
   "source": [
    "# Clase 5\n",
    "\n",
    "**Primeros scripts**\n",
    "\n",
    "Vamos a definir en una celda tres variables, una que contenga mi nombre, otra que contenga mi edad y otra que muestre el porcentaje de la semana que utilizo para mi curso de programación."
   ]
  },
  {
   "cell_type": "markdown",
   "id": "eb212586-1dbb-4b77-99d1-428ada5ba7e9",
   "metadata": {},
   "source": [
    "## Método `format` para cadenas de caractéres\n",
    "\n",
    "Veamos como podemos crear formatos en textos:"
   ]
  },
  {
   "cell_type": "code",
   "execution_count": 1,
   "id": "3d485db2-93ee-4099-88aa-7dfed3d55a0d",
   "metadata": {},
   "outputs": [],
   "source": [
    "Nombre='Carlos Isaac Zainea Maya'\n",
    "Edad=32\n",
    "Por_prog=(4+2)/(24*5)"
   ]
  },
  {
   "cell_type": "code",
   "execution_count": 4,
   "id": "3a0bba3b-33e9-4b9f-a9e3-445157c5ef83",
   "metadata": {},
   "outputs": [
    {
     "data": {
      "text/plain": [
       "'Mi nombre es Carlos Isaac Zainea Maya, tengo 32 años y soy externadista'"
      ]
     },
     "execution_count": 4,
     "metadata": {},
     "output_type": "execute_result"
    }
   ],
   "source": [
    "texto1='Mi nombre es {}, tengo {} años y soy externadista'.format(Nombre,Edad)\n",
    "texto1"
   ]
  },
  {
   "cell_type": "code",
   "execution_count": 10,
   "id": "21ade23f-f11d-4df3-9936-287a3dd43107",
   "metadata": {},
   "outputs": [
    {
     "data": {
      "text/plain": [
       "'Mi nombre es Carlos Isaac Zainea Maya, tengo 32 años y soy externadista'"
      ]
     },
     "execution_count": 10,
     "metadata": {},
     "output_type": "execute_result"
    }
   ],
   "source": [
    "texto1='Mi nombre es {nombre}, tengo {edad} años y soy externadista'.format(nombre=Nombre,edad=Edad)\n",
    "texto1"
   ]
  },
  {
   "cell_type": "code",
   "execution_count": 17,
   "id": "2aa04b8f-7dd3-4bd7-95a5-2c128e2cfcc8",
   "metadata": {},
   "outputs": [
    {
     "data": {
      "text/plain": [
       "'Mi nombre es Carlos Isaac Zainea Maya, tengo 32 años, soy externadista y dedico el 5.0% de mi semana a programación'"
      ]
     },
     "execution_count": 17,
     "metadata": {},
     "output_type": "execute_result"
    }
   ],
   "source": [
    "texto2='Mi nombre es {nombre}, tengo {edad} años, soy externadista y dedico el {porcentaje:.1%} de mi semana a programación'.format(\n",
    "    nombre=Nombre,\n",
    "    edad=Edad,\n",
    "    porcentaje=Por_prog)\n",
    "texto2"
   ]
  },
  {
   "cell_type": "code",
   "execution_count": 19,
   "id": "83b1a218-a5a1-49a8-9e2a-caf8161e7969",
   "metadata": {},
   "outputs": [
    {
     "name": "stdout",
     "output_type": "stream",
     "text": [
      "Nombre:      Carlos Isaac Zainea Maya\n",
      "Edad:                            32\n"
     ]
    }
   ],
   "source": [
    "Texto3='Nombre:{nombre:>30}\\nEdad:{edad:>30}'.format(nombre=Nombre,edad=Edad)\n",
    "print(Texto3)"
   ]
  },
  {
   "cell_type": "code",
   "execution_count": 24,
   "id": "763d6bc8-34a4-47e7-9369-bce4195d4e79",
   "metadata": {},
   "outputs": [
    {
     "name": "stdout",
     "output_type": "stream",
     "text": [
      "Carlos Isaac Zainea Maya      :Nombre\n",
      "32                            :Edad\n"
     ]
    }
   ],
   "source": [
    "Texto3='{nombre:<30}:Nombre\\n{edad:<30}:Edad'.format(nombre=Nombre,edad=Edad)\n",
    "print(Texto3)"
   ]
  },
  {
   "cell_type": "code",
   "execution_count": 26,
   "id": "324c4888-afd8-4999-8040-29f24e442bbb",
   "metadata": {},
   "outputs": [
    {
     "name": "stdout",
     "output_type": "stream",
     "text": [
      "   Carlos Isaac Zainea Maya   \n",
      "              32              \n"
     ]
    }
   ],
   "source": [
    "Texto4='{nombre:^30}\\n{edad:^30}'.format(nombre=Nombre,edad=Edad)\n",
    "print(Texto4)"
   ]
  },
  {
   "cell_type": "code",
   "execution_count": 30,
   "id": "d8073228-94be-49f7-b02f-ac7de308904d",
   "metadata": {},
   "outputs": [
    {
     "name": "stdout",
     "output_type": "stream",
     "text": [
      "El boleto para Bad Bunny valió $22,000,000\n"
     ]
    }
   ],
   "source": [
    "Texto5='El boleto para Bad Bunny valió ${boleto:,}'.format(boleto=22000000)\n",
    "print(Texto5)"
   ]
  },
  {
   "cell_type": "code",
   "execution_count": 32,
   "id": "03ab4a5b-1cd5-45fc-990d-b9fb4c709d22",
   "metadata": {},
   "outputs": [
    {
     "name": "stdout",
     "output_type": "stream",
     "text": [
      "En binario tengo 100000\n"
     ]
    }
   ],
   "source": [
    "Texto6='En binario tengo {edad:b}'.format(edad=Edad)\n",
    "print(Texto6)"
   ]
  },
  {
   "cell_type": "markdown",
   "id": "e7b1ae40-cdcf-45f4-be09-2944946c9794",
   "metadata": {},
   "source": [
    "## Más métodos de cadenas de caractéres\n",
    "\n",
    "Veamos una lista de métodos e intentemos definir que hace cada una:"
   ]
  },
  {
   "cell_type": "code",
   "execution_count": 34,
   "id": "7fcca7e8-b6b5-4d02-9220-6563d61cabc9",
   "metadata": {},
   "outputs": [
    {
     "name": "stdout",
     "output_type": "stream",
     "text": [
      "Hola\n"
     ]
    }
   ],
   "source": [
    "Texto7='hola'.capitalize() # Pone mayúscula inicial\n",
    "print(Texto7)"
   ]
  },
  {
   "cell_type": "code",
   "execution_count": 35,
   "id": "e075fd75-a44a-4379-8829-c5fe9e768e0e",
   "metadata": {},
   "outputs": [
    {
     "name": "stdout",
     "output_type": "stream",
     "text": [
      "en el monte de la china una china se perdio\n"
     ]
    }
   ],
   "source": [
    "Texto8='En el Monte de la China una china SE PErdIO'.casefold() \n",
    "print(Texto8)"
   ]
  },
  {
   "cell_type": "code",
   "execution_count": 36,
   "id": "a171c617-ae54-4cb4-83c4-7caa3ca7faaa",
   "metadata": {},
   "outputs": [
    {
     "name": "stdout",
     "output_type": "stream",
     "text": [
      "EN EL MONTE DE LA CHINA UNA CHINA SE PERDIO\n"
     ]
    }
   ],
   "source": [
    "Texto9='En el Monte de la China una china SE PErdIO'.upper() \n",
    "print(Texto9)"
   ]
  },
  {
   "cell_type": "code",
   "execution_count": 37,
   "id": "360efe10-d94e-441d-be63-b42f722f662f",
   "metadata": {},
   "outputs": [
    {
     "name": "stdout",
     "output_type": "stream",
     "text": [
      "en el monte de la china una china se perdio\n"
     ]
    }
   ],
   "source": [
    "Texto10='En el Monte de la China una china SE PErdIO'.lower() \n",
    "print(Texto10)"
   ]
  },
  {
   "cell_type": "code",
   "execution_count": 38,
   "id": "afd3d590-46fa-41c5-a586-473004f43da3",
   "metadata": {},
   "outputs": [
    {
     "name": "stdout",
     "output_type": "stream",
     "text": [
      "En el Monte de lx-x Chinx-x unx-x chinx-x SE PErdIO\n"
     ]
    }
   ],
   "source": [
    "Texto11='En el Monte de la China una china SE PErdIO'.replace('a','x-x') \n",
    "print(Texto11)"
   ]
  },
  {
   "cell_type": "code",
   "execution_count": 39,
   "id": "8e3e7ccb-4441-4237-91dc-94fd10e27006",
   "metadata": {},
   "outputs": [
    {
     "name": "stdout",
     "output_type": "stream",
     "text": [
      "eN EL mONTE DE LA cHINA UNA CHINA se peRDio\n"
     ]
    }
   ],
   "source": [
    "Texto12='En el Monte de la China una china SE PErdIO'.swapcase()\n",
    "print(Texto12)"
   ]
  },
  {
   "cell_type": "code",
   "execution_count": 42,
   "id": "79f1f987-0fc6-4763-aa57-5566f1fb51e1",
   "metadata": {},
   "outputs": [
    {
     "name": "stdout",
     "output_type": "stream",
     "text": [
      "                            En el Monte de la China una china SE PErdIO                             \n"
     ]
    }
   ],
   "source": [
    "Texto13='En el Monte de la China una china SE PErdIO'.center(100)\n",
    "print(Texto13)"
   ]
  },
  {
   "cell_type": "markdown",
   "id": "6016a29c-e2e3-40f5-8c71-1a9cf3e7fc5c",
   "metadata": {},
   "source": [
    "Otros métodos"
   ]
  },
  {
   "cell_type": "code",
   "execution_count": 46,
   "id": "d81cf2f4-c49a-460c-b5b0-63d0f7678e78",
   "metadata": {},
   "outputs": [
    {
     "name": "stdout",
     "output_type": "stream",
     "text": [
      "4\n"
     ]
    }
   ],
   "source": [
    "x1='''hola\n",
    "muchachos \n",
    "de\n",
    "programación'''.count('a')\n",
    "print(x1)"
   ]
  },
  {
   "cell_type": "code",
   "execution_count": 49,
   "id": "ca230f4b-4559-4c4a-a296-b33443468d5b",
   "metadata": {},
   "outputs": [
    {
     "name": "stdout",
     "output_type": "stream",
     "text": [
      "0\n"
     ]
    }
   ],
   "source": [
    "x3='En el Externado soy muy feliz'.find('En')\n",
    "print(x3)"
   ]
  },
  {
   "cell_type": "code",
   "execution_count": 51,
   "id": "7c92dda8-ce78-407e-921a-18261b9b889b",
   "metadata": {},
   "outputs": [
    {
     "name": "stdout",
     "output_type": "stream",
     "text": [
      "3\n"
     ]
    }
   ],
   "source": [
    "x4='En el Externado soy muy feliz'.find('el')\n",
    "print(x4)"
   ]
  },
  {
   "cell_type": "code",
   "execution_count": 52,
   "id": "0bd96587-cced-4153-8794-6dde0acb4ffd",
   "metadata": {},
   "outputs": [
    {
     "name": "stdout",
     "output_type": "stream",
     "text": [
      "6\n"
     ]
    }
   ],
   "source": [
    "x5='En el Externado soy muy feliz'.find('Externado')\n",
    "print(x5)"
   ]
  },
  {
   "cell_type": "code",
   "execution_count": 53,
   "id": "4517348d-9a35-4fdf-ab53-c089671e5df8",
   "metadata": {},
   "outputs": [
    {
     "name": "stdout",
     "output_type": "stream",
     "text": [
      "16\n"
     ]
    }
   ],
   "source": [
    "x2='En el Externado soy muy feliz'.find('soy')\n",
    "print(x2)"
   ]
  },
  {
   "cell_type": "markdown",
   "id": "bd38ff0a-e2bc-4d1e-8f32-6ecd83759179",
   "metadata": {},
   "source": [
    "En Python los textos son arreglos, o más bien secuecnias ordenadas de caracteres. Cada texto tiene un orden según la aparición de cada caracter."
   ]
  },
  {
   "cell_type": "code",
   "execution_count": 54,
   "id": "36ae0c3a-b5c3-460d-a329-6d4242f49987",
   "metadata": {},
   "outputs": [],
   "source": [
    "texto_normal='0123456789'"
   ]
  },
  {
   "cell_type": "code",
   "execution_count": 57,
   "id": "9091d1c8-1b60-4cd6-9f4c-fdb6454edc64",
   "metadata": {},
   "outputs": [
    {
     "data": {
      "text/plain": [
       "'0'"
      ]
     },
     "execution_count": 57,
     "metadata": {},
     "output_type": "execute_result"
    }
   ],
   "source": [
    "texto_normal[0] #identifico a cada caracter en esa lista o arreglo con paréntesis cuadrados"
   ]
  },
  {
   "cell_type": "code",
   "execution_count": 58,
   "id": "a6c3e509-e131-4aa8-b462-f114e33c0d35",
   "metadata": {},
   "outputs": [
    {
     "data": {
      "text/plain": [
       "'4'"
      ]
     },
     "execution_count": 58,
     "metadata": {},
     "output_type": "execute_result"
    }
   ],
   "source": [
    "texto_normal[4]"
   ]
  },
  {
   "cell_type": "code",
   "execution_count": 60,
   "id": "e40e9699-3e71-462e-bfda-fb3bfae4e69f",
   "metadata": {},
   "outputs": [
    {
     "data": {
      "text/plain": [
       "'0123'"
      ]
     },
     "execution_count": 60,
     "metadata": {},
     "output_type": "execute_result"
    }
   ],
   "source": [
    "texto_normal[0:4] # Los dos valores separados por dos puntos indican un rango en el texto, inicia en el primero y termina uno antes que el segundo"
   ]
  },
  {
   "cell_type": "code",
   "execution_count": 61,
   "id": "b8dec3d8-43ff-49f6-adf0-a36c4f15e707",
   "metadata": {},
   "outputs": [
    {
     "data": {
      "text/plain": [
       "'45678'"
      ]
     },
     "execution_count": 61,
     "metadata": {},
     "output_type": "execute_result"
    }
   ],
   "source": [
    "texto_normal[4:9]"
   ]
  },
  {
   "cell_type": "code",
   "execution_count": 63,
   "id": "6d1d1dbb-1ec6-48c9-8184-04923042edd9",
   "metadata": {},
   "outputs": [],
   "source": [
    "texto='Colombia verá Qatar 2022 desde la sala de la casa'"
   ]
  },
  {
   "cell_type": "code",
   "execution_count": 64,
   "id": "af10aa05-0aed-4610-a43d-a5da27468df5",
   "metadata": {},
   "outputs": [
    {
     "data": {
      "text/plain": [
       "'bia verá Qatar '"
      ]
     },
     "execution_count": 64,
     "metadata": {},
     "output_type": "execute_result"
    }
   ],
   "source": [
    "texto[5:20]"
   ]
  },
  {
   "cell_type": "markdown",
   "id": "bd8ec69c-51f8-45b3-8438-66da2f076db3",
   "metadata": {},
   "source": [
    "### Función `input`"
   ]
  },
  {
   "cell_type": "code",
   "execution_count": 66,
   "id": "df659992-8086-4b9f-8c50-e4ad593eb642",
   "metadata": {},
   "outputs": [
    {
     "name": "stdin",
     "output_type": "stream",
     "text": [
      "Escriba un texto aquí:  4\n"
     ]
    },
    {
     "name": "stdout",
     "output_type": "stream",
     "text": [
      "4\n",
      "<class 'str'>\n"
     ]
    }
   ],
   "source": [
    "txt=input('Escriba un texto aquí: ')\n",
    "print(txt)\n",
    "print(type(txt))"
   ]
  },
  {
   "cell_type": "markdown",
   "id": "82e8dd15-890a-441c-9d02-ca04fba8a778",
   "metadata": {},
   "source": [
    "Claramente `input`permite que el usuario pueda ingresar texto, ese texto siempre se guardara como cadena de caractéres y se se quiere cambiar debe utilizarse una función adecuada:"
   ]
  },
  {
   "cell_type": "code",
   "execution_count": 69,
   "id": "ea39ad2a-22b9-4b46-9921-b39d68ab3429",
   "metadata": {},
   "outputs": [
    {
     "name": "stdin",
     "output_type": "stream",
     "text": [
      "Ingrese su nombre:  Isaac\n",
      "Ingrese su edad:  32\n"
     ]
    },
    {
     "name": "stdout",
     "output_type": "stream",
     "text": [
      "En el 2023 Isaac, tendrá 33 años\n"
     ]
    }
   ],
   "source": [
    "txt=input('Ingrese su nombre: ')\n",
    "age=input('Ingrese su edad: ')\n",
    "age=int(age)\n",
    "print('En el 2023 {nombre}, tendrá {edad} años'.format(nombre=txt,edad=age+1)) "
   ]
  },
  {
   "cell_type": "code",
   "execution_count": null,
   "id": "6c721844-983a-4400-a141-f8e5f3053fa7",
   "metadata": {},
   "outputs": [],
   "source": []
  }
 ],
 "metadata": {
  "kernelspec": {
   "display_name": "Python 3 (ipykernel)",
   "language": "python",
   "name": "python3"
  },
  "language_info": {
   "codemirror_mode": {
    "name": "ipython",
    "version": 3
   },
   "file_extension": ".py",
   "mimetype": "text/x-python",
   "name": "python",
   "nbconvert_exporter": "python",
   "pygments_lexer": "ipython3",
   "version": "3.9.7"
  }
 },
 "nbformat": 4,
 "nbformat_minor": 5
}
